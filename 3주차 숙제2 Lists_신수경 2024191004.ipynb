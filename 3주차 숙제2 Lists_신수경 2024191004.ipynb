{
  "nbformat": 4,
  "nbformat_minor": 0,
  "metadata": {
    "kernelspec": {
      "display_name": "Python 3",
      "language": "python",
      "name": "python3"
    },
    "language_info": {
      "codemirror_mode": {
        "name": "ipython",
        "version": 3
      },
      "file_extension": ".py",
      "mimetype": "text/x-python",
      "name": "python",
      "nbconvert_exporter": "python",
      "pygments_lexer": "ipython3",
      "version": "3.6.8"
    },
    "colab": {
      "provenance": []
    }
  },
  "cells": [
    {
      "cell_type": "markdown",
      "metadata": {
        "id": "-kmv3hPY6OQp"
      },
      "source": [
        "<h1>Lists in Python</h1>"
      ]
    },
    {
      "cell_type": "markdown",
      "metadata": {
        "id": "Lj8h9ORD6OQq"
      },
      "source": [
        "<p><strong>Welcome!</strong> This notebook will teach you about the lists in the Python Programming Language. By the end of this lab, you'll know the basics list operations in Python, including indexing, list operations and copy/clone list.</p>"
      ]
    },
    {
      "cell_type": "markdown",
      "metadata": {
        "id": "hhxcfI_y6OQs"
      },
      "source": [
        "<h2 id=\"#dataset\">About the Dataset</h2>"
      ]
    },
    {
      "cell_type": "markdown",
      "metadata": {
        "id": "pL-cRqHM6OQs"
      },
      "source": [
        "Imagine you received album recommendations from your friends and compiled all of the recommandations into a table, with specific information about each album.\n",
        "\n",
        "The table has one row for each movie and several columns:\n",
        "\n",
        "- **artist** - Name of the artist\n",
        "- **album** - Name of the album\n",
        "- **released_year** - Year the album was released\n",
        "- **length_min_sec** - Length of the album (hours,minutes,seconds)\n",
        "- **genre** - Genre of the album\n",
        "- **music_recording_sales_millions** - Music recording sales (millions in USD)\n",
        "- **claimed_sales_millions** - Album's claimed sales (millions in USD)\n",
        "- **date_released** - Date on which the album was released\n",
        "- **soundtrack** - Indicates if the album is the movie soundtrack (Y) or (N)\n",
        "- **rating_of_friends** - Indicates the rating from your friends from 1 to 10\n",
        "<br>\n",
        "<br>\n",
        "\n",
        "The dataset can be seen below:\n",
        "\n",
        "<font size=\"1\">\n",
        "<table font-size:xx-small style=\"width:25%\">\n",
        "  <tr>\n",
        "    <th>Artist</th>\n",
        "    <th>Album</th>\n",
        "    <th>Released</th>\n",
        "    <th>Length</th>\n",
        "    <th>Genre</th>\n",
        "    <th>Music recording sales (millions)</th>\n",
        "    <th>Claimed sales (millions)</th>\n",
        "    <th>Released</th>\n",
        "    <th>Soundtrack</th>\n",
        "    <th>Rating (friends)</th>\n",
        "  </tr>\n",
        "  <tr>\n",
        "    <td>Michael Jackson</td>\n",
        "    <td>Thriller</td>\n",
        "    <td>1982</td>\n",
        "    <td>00:42:19</td>\n",
        "    <td>Pop, rock, R&B</td>\n",
        "    <td>46</td>\n",
        "    <td>65</td>\n",
        "    <td>30-Nov-82</td>\n",
        "    <td></td>\n",
        "    <td>10.0</td>\n",
        "  </tr>\n",
        "  <tr>\n",
        "    <td>AC/DC</td>\n",
        "    <td>Back in Black</td>\n",
        "    <td>1980</td>\n",
        "    <td>00:42:11</td>\n",
        "    <td>Hard rock</td>\n",
        "    <td>26.1</td>\n",
        "    <td>50</td>\n",
        "    <td>25-Jul-80</td>\n",
        "    <td></td>\n",
        "    <td>8.5</td>\n",
        "  </tr>\n",
        "    <tr>\n",
        "    <td>Pink Floyd</td>\n",
        "    <td>The Dark Side of the Moon</td>\n",
        "    <td>1973</td>\n",
        "    <td>00:42:49</td>\n",
        "    <td>Progressive rock</td>\n",
        "    <td>24.2</td>\n",
        "    <td>45</td>\n",
        "    <td>01-Mar-73</td>\n",
        "    <td></td>\n",
        "    <td>9.5</td>\n",
        "  </tr>\n",
        "    <tr>\n",
        "    <td>Whitney Houston</td>\n",
        "    <td>The Bodyguard</td>\n",
        "    <td>1992</td>\n",
        "    <td>00:57:44</td>\n",
        "    <td>Soundtrack/R&B, soul, pop</td>\n",
        "    <td>26.1</td>\n",
        "    <td>50</td>\n",
        "    <td>25-Jul-80</td>\n",
        "    <td>Y</td>\n",
        "    <td>7.0</td>\n",
        "  </tr>\n",
        "    <tr>\n",
        "    <td>Meat Loaf</td>\n",
        "    <td>Bat Out of Hell</td>\n",
        "    <td>1977</td>\n",
        "    <td>00:46:33</td>\n",
        "    <td>Hard rock, progressive rock</td>\n",
        "    <td>20.6</td>\n",
        "    <td>43</td>\n",
        "    <td>21-Oct-77</td>\n",
        "    <td></td>\n",
        "    <td>7.0</td>\n",
        "  </tr>\n",
        "    <tr>\n",
        "    <td>Eagles</td>\n",
        "    <td>Their Greatest Hits (1971-1975)</td>\n",
        "    <td>1976</td>\n",
        "    <td>00:43:08</td>\n",
        "    <td>Rock, soft rock, folk rock</td>\n",
        "    <td>32.2</td>\n",
        "    <td>42</td>\n",
        "    <td>17-Feb-76</td>\n",
        "    <td></td>\n",
        "    <td>9.5</td>\n",
        "  </tr>\n",
        "    <tr>\n",
        "    <td>Bee Gees</td>\n",
        "    <td>Saturday Night Fever</td>\n",
        "    <td>1977</td>\n",
        "    <td>1:15:54</td>\n",
        "    <td>Disco</td>\n",
        "    <td>20.6</td>\n",
        "    <td>40</td>\n",
        "    <td>15-Nov-77</td>\n",
        "    <td>Y</td>\n",
        "    <td>9.0</td>\n",
        "  </tr>\n",
        "    <tr>\n",
        "    <td>Fleetwood Mac</td>\n",
        "    <td>Rumours</td>\n",
        "    <td>1977</td>\n",
        "    <td>00:40:01</td>\n",
        "    <td>Soft rock</td>\n",
        "    <td>27.9</td>\n",
        "    <td>40</td>\n",
        "    <td>04-Feb-77</td>\n",
        "    <td></td>\n",
        "    <td>9.5</td>\n",
        "  </tr>\n",
        "</table></font>"
      ]
    },
    {
      "cell_type": "markdown",
      "metadata": {
        "id": "Afzfuv4P6OQt"
      },
      "source": [
        "<hr>"
      ]
    },
    {
      "cell_type": "markdown",
      "metadata": {
        "id": "aumgnRli6OQt"
      },
      "source": [
        "<h2 id=\"list\">Lists</h2>"
      ]
    },
    {
      "cell_type": "markdown",
      "metadata": {
        "id": "fmRrOYbF6OQu"
      },
      "source": [
        "<h3 id=\"index\">Indexing</h3>"
      ]
    },
    {
      "cell_type": "markdown",
      "metadata": {
        "id": "_dIefeGA6OQv"
      },
      "source": [
        "We are going to take a look at lists in Python. A list is a sequenced collection of different objects such as integers, strings, and other lists as well. The address of each element within a list is called an <b>index</b>. An index is used to access and refer to items within a list."
      ]
    },
    {
      "cell_type": "markdown",
      "metadata": {
        "id": "NTaqtcMf6OQw"
      },
      "source": [
        "<img src=\"https://s3-api.us-geo.objectstorage.softlayer.net/cf-courses-data/CognitiveClass/PY0101EN/Chapter%202/Images/ListsIndex.png\" width=\"1000\" />"
      ]
    },
    {
      "cell_type": "markdown",
      "metadata": {
        "id": "_KnOIx6i6OQw"
      },
      "source": [
        " To create a list, type the list within square brackets <b>[ ]</b>, with your content inside the parenthesis and separated by commas. Let’s try it!"
      ]
    },
    {
      "cell_type": "code",
      "metadata": {
        "id": "UpEdrGZX6OQx",
        "colab": {
          "base_uri": "https://localhost:8080/"
        },
        "outputId": "15399b92-83d2-4335-c359-4063f7250bf2"
      },
      "source": [
        "# Create a list\n",
        "\n",
        "L = [\"Michael Jackson\", 10.1, 1982] #[] : indexing\n",
        "L"
      ],
      "execution_count": 1,
      "outputs": [
        {
          "output_type": "execute_result",
          "data": {
            "text/plain": [
              "['Michael Jackson', 10.1, 1982]"
            ]
          },
          "metadata": {},
          "execution_count": 1
        }
      ]
    },
    {
      "cell_type": "code",
      "source": [
        "type(L[2])"
      ],
      "metadata": {
        "colab": {
          "base_uri": "https://localhost:8080/"
        },
        "id": "BmrFlijOm_xu",
        "outputId": "856ecfec-b8fa-4ed0-baca-b88e60e96936"
      },
      "execution_count": 2,
      "outputs": [
        {
          "output_type": "execute_result",
          "data": {
            "text/plain": [
              "int"
            ]
          },
          "metadata": {},
          "execution_count": 2
        }
      ]
    },
    {
      "cell_type": "markdown",
      "metadata": {
        "id": "Oi8vGIko6OQ1"
      },
      "source": [
        "We can use negative and regular indexing with a list :"
      ]
    },
    {
      "cell_type": "markdown",
      "metadata": {
        "id": "J6Nv78gF6OQ2"
      },
      "source": [
        "<img src=\"https://s3-api.us-geo.objectstorage.softlayer.net/cf-courses-data/CognitiveClass/PY0101EN/Chapter%202/Images/ListsNeg.png\" width=\"1000\" />"
      ]
    },
    {
      "cell_type": "code",
      "metadata": {
        "id": "HKKAd7YR6OQ2",
        "colab": {
          "base_uri": "https://localhost:8080/"
        },
        "outputId": "19d361ac-4059-4d3f-dfaa-d3569528398d"
      },
      "source": [
        "# Print the elements on each index\n",
        "\n",
        "print('the same element using negative and positive indexing:\\n Postive:',L[0],\n",
        "'\\n Negative:' , L[-3]  )\n",
        "print('the same element using negative and positive indexing:\\n Postive:',L[1],\n",
        "'\\n Negative:' , L[-2]  )\n",
        "print('the same element using negative and positive indexing:\\n Postive:',L[2],\n",
        "'\\n Negative:' , L[-1]  )"
      ],
      "execution_count": 3,
      "outputs": [
        {
          "output_type": "stream",
          "name": "stdout",
          "text": [
            "the same element using negative and positive indexing:\n",
            " Postive: Michael Jackson \n",
            " Negative: Michael Jackson\n",
            "the same element using negative and positive indexing:\n",
            " Postive: 10.1 \n",
            " Negative: 10.1\n",
            "the same element using negative and positive indexing:\n",
            " Postive: 1982 \n",
            " Negative: 1982\n"
          ]
        }
      ]
    },
    {
      "cell_type": "markdown",
      "metadata": {
        "id": "hfwadSBF6OQ5"
      },
      "source": [
        "<h3 id=\"content\">List Content</h3>"
      ]
    },
    {
      "cell_type": "markdown",
      "metadata": {
        "id": "l2bUN_yU6OQ5"
      },
      "source": [
        "Lists can contain strings, floats, and integers. We can nest other lists, and we can also nest tuples and other data structures. The same indexing conventions apply for nesting:    \n"
      ]
    },
    {
      "cell_type": "code",
      "metadata": {
        "id": "IOk_DmIV6OQ6",
        "colab": {
          "base_uri": "https://localhost:8080/"
        },
        "outputId": "c0cd4e15-b6ab-45b0-a4d1-ebdff223e303"
      },
      "source": [
        "#Differnece between List and Tuple is List is mutable (changeable) but not tuple\n",
        "\n",
        "L1 = [\"Michael Jackson\", 10.1, 1982, [1, 2], (\"A\", 1)]\n",
        "print(\"before L1[0] changed\", L1)\n",
        "L1[0] = \"Janet\"\n",
        "print(\"after L1[0] changed\", L1)\n",
        "\n",
        "\n"
      ],
      "execution_count": 4,
      "outputs": [
        {
          "output_type": "stream",
          "name": "stdout",
          "text": [
            "before L1[0] changed ['Michael Jackson', 10.1, 1982, [1, 2], ('A', 1)]\n",
            "after L1[0] changed ['Janet', 10.1, 1982, [1, 2], ('A', 1)]\n"
          ]
        }
      ]
    },
    {
      "cell_type": "code",
      "metadata": {
        "id": "85zo9GNA7vwi",
        "colab": {
          "base_uri": "https://localhost:8080/",
          "height": 183
        },
        "outputId": "8ad84a0d-0b5d-4260-e650-bcfc6887c4b0"
      },
      "source": [
        "Tuple1=(\"Michael Jackson\", 10.1, 1982)\n",
        "Tuple1\n",
        "Tuple1[0]=\"Janet\""
      ],
      "execution_count": 5,
      "outputs": [
        {
          "output_type": "error",
          "ename": "TypeError",
          "evalue": "'tuple' object does not support item assignment",
          "traceback": [
            "\u001b[0;31m---------------------------------------------------------------------------\u001b[0m",
            "\u001b[0;31mTypeError\u001b[0m                                 Traceback (most recent call last)",
            "\u001b[0;32m<ipython-input-5-886b175148d3>\u001b[0m in \u001b[0;36m<cell line: 0>\u001b[0;34m()\u001b[0m\n\u001b[1;32m      1\u001b[0m \u001b[0mTuple1\u001b[0m\u001b[0;34m=\u001b[0m\u001b[0;34m(\u001b[0m\u001b[0;34m\"Michael Jackson\"\u001b[0m\u001b[0;34m,\u001b[0m \u001b[0;36m10.1\u001b[0m\u001b[0;34m,\u001b[0m \u001b[0;36m1982\u001b[0m\u001b[0;34m)\u001b[0m\u001b[0;34m\u001b[0m\u001b[0;34m\u001b[0m\u001b[0m\n\u001b[1;32m      2\u001b[0m \u001b[0mTuple1\u001b[0m\u001b[0;34m\u001b[0m\u001b[0;34m\u001b[0m\u001b[0m\n\u001b[0;32m----> 3\u001b[0;31m \u001b[0mTuple1\u001b[0m\u001b[0;34m[\u001b[0m\u001b[0;36m0\u001b[0m\u001b[0;34m]\u001b[0m\u001b[0;34m=\u001b[0m\u001b[0;34m\"Janet\"\u001b[0m\u001b[0;34m\u001b[0m\u001b[0;34m\u001b[0m\u001b[0m\n\u001b[0m",
            "\u001b[0;31mTypeError\u001b[0m: 'tuple' object does not support item assignment"
          ]
        }
      ]
    },
    {
      "cell_type": "markdown",
      "metadata": {
        "id": "bSxIcNc86OQ9"
      },
      "source": [
        "<h3 id=\"op\">List Operations (함수, 기능, 즉 LIST를 사용하면 쓸 수 있는 무기</h3>"
      ]
    },
    {
      "cell_type": "markdown",
      "metadata": {
        "id": "tHc4wOVY6OQ9"
      },
      "source": [
        " We can also perform slicing in lists. For example, if we want the last two elements, we use the following command:"
      ]
    },
    {
      "cell_type": "code",
      "metadata": {
        "id": "P1ngnqP66OQ-",
        "colab": {
          "base_uri": "https://localhost:8080/"
        },
        "outputId": "92f1ae17-99c2-41b4-a7f4-96071b7308dd"
      },
      "source": [
        "# Sample List\n",
        "\n",
        "L = [\"Michael Jackson\", 10.1,1982,\"MJ\",1]\n",
        "L"
      ],
      "execution_count": 6,
      "outputs": [
        {
          "output_type": "execute_result",
          "data": {
            "text/plain": [
              "['Michael Jackson', 10.1, 1982, 'MJ', 1]"
            ]
          },
          "metadata": {},
          "execution_count": 6
        }
      ]
    },
    {
      "cell_type": "markdown",
      "metadata": {
        "id": "JoHM3sgO6ORB"
      },
      "source": [
        "<img src=\"https://s3-api.us-geo.objectstorage.softlayer.net/cf-courses-data/CognitiveClass/PY0101EN/Chapter%202/Images/ListsSlice.png\" width=\"1000\">"
      ]
    },
    {
      "cell_type": "code",
      "metadata": {
        "id": "0FqfMvDr6ORB",
        "colab": {
          "base_uri": "https://localhost:8080/"
        },
        "outputId": "aee56419-207b-47f6-fd42-8aebc7167b3d"
      },
      "source": [
        "# List slicing\n",
        "\n",
        "L[3:5]"
      ],
      "execution_count": 7,
      "outputs": [
        {
          "output_type": "execute_result",
          "data": {
            "text/plain": [
              "['MJ', 1]"
            ]
          },
          "metadata": {},
          "execution_count": 7
        }
      ]
    },
    {
      "cell_type": "markdown",
      "metadata": {
        "id": "cQehmbrm6ORE"
      },
      "source": [
        "We can use the method <code>extend</code> to add new elements to the list:"
      ]
    },
    {
      "cell_type": "code",
      "metadata": {
        "id": "o-6mD3rB6ORF",
        "colab": {
          "base_uri": "https://localhost:8080/"
        },
        "outputId": "2dd328e0-93b1-4077-9184-b62dbc529c92"
      },
      "source": [
        "# Use extend to add elements to list\n",
        "\n",
        "L = [ \"Michael Jackson\", 10.2]\n",
        "L.extend(['pop', 10]) #['pop', 10] --> list\n",
        "L[3]"
      ],
      "execution_count": 8,
      "outputs": [
        {
          "output_type": "execute_result",
          "data": {
            "text/plain": [
              "10"
            ]
          },
          "metadata": {},
          "execution_count": 8
        }
      ]
    },
    {
      "cell_type": "markdown",
      "metadata": {
        "id": "U_kAn39m6ORH"
      },
      "source": [
        "Another similar method is <code>append</code>. If we apply <code>append</code> instead of <code>extend</code>, we add one element to the list:"
      ]
    },
    {
      "cell_type": "code",
      "metadata": {
        "id": "ylRoJQ7A6ORI",
        "colab": {
          "base_uri": "https://localhost:8080/",
          "height": 35
        },
        "outputId": "115c6c5f-74b9-4855-c229-d0f1834d6d18"
      },
      "source": [
        "# Use append to add elements to list\n",
        "\n",
        "L = [ \"Michael Jackson\", 10.2]\n",
        "L.append(['pop', 10]) #['pop', 10]\n",
        "L[2][0]\n"
      ],
      "execution_count": 9,
      "outputs": [
        {
          "output_type": "execute_result",
          "data": {
            "text/plain": [
              "'pop'"
            ],
            "application/vnd.google.colaboratory.intrinsic+json": {
              "type": "string"
            }
          },
          "metadata": {},
          "execution_count": 9
        }
      ]
    },
    {
      "cell_type": "markdown",
      "metadata": {
        "id": "0Jf6S4E56ORW"
      },
      "source": [
        " We can also delete an element of a list using the <code>del</code> command:"
      ]
    },
    {
      "cell_type": "code",
      "metadata": {
        "id": "-bY57Iyv6ORW",
        "colab": {
          "base_uri": "https://localhost:8080/"
        },
        "outputId": "1815cb3a-731d-4a1b-a18c-ed911faf9d5f"
      },
      "source": [
        "# Delete the element based on the index\n",
        "A = ['Michael Jackson', 10.2, 'pop', 10, ['a', 'b']]\n",
        "print('Before change:', A)\n",
        "del(A[0])\n",
        "print('After change:', A)"
      ],
      "execution_count": 10,
      "outputs": [
        {
          "output_type": "stream",
          "name": "stdout",
          "text": [
            "Before change: ['Michael Jackson', 10.2, 'pop', 10, ['a', 'b']]\n",
            "After change: [10.2, 'pop', 10, ['a', 'b']]\n"
          ]
        }
      ]
    },
    {
      "cell_type": "markdown",
      "metadata": {
        "id": "FK3UY1LB6ORZ"
      },
      "source": [
        "We can convert a string to a list using <code>split</code>.  For example, the method <code>split</code> translates every group of characters separated by a space into an element in a list:"
      ]
    },
    {
      "cell_type": "code",
      "source": [
        "A = ['Michael Jackson', 10.2, 'pop', 10]"
      ],
      "metadata": {
        "id": "ScXjo95Pp0nc"
      },
      "execution_count": 11,
      "outputs": []
    },
    {
      "cell_type": "code",
      "metadata": {
        "id": "SiyLlFUi6ORZ",
        "colab": {
          "base_uri": "https://localhost:8080/",
          "height": 53
        },
        "outputId": "bf1bfb40-b61b-4456-9fc7-7d00c73199f5"
      },
      "source": [
        "# Split the string, default is by space\n",
        "\n",
        "what='hard rock'.split()\n",
        "print(what)\n",
        "type(what)\n",
        "what[1]"
      ],
      "execution_count": 12,
      "outputs": [
        {
          "output_type": "stream",
          "name": "stdout",
          "text": [
            "['hard', 'rock']\n"
          ]
        },
        {
          "output_type": "execute_result",
          "data": {
            "text/plain": [
              "'rock'"
            ],
            "application/vnd.google.colaboratory.intrinsic+json": {
              "type": "string"
            }
          },
          "metadata": {},
          "execution_count": 12
        }
      ]
    },
    {
      "cell_type": "markdown",
      "metadata": {
        "id": "JRCvIIhw6ORc"
      },
      "source": [
        "We can use the split function to separate strings on a specific character. We pass the character we would like to split on into the argument, which in this case is a comma.  The result is a list, and each element corresponds to a set of characters that have been separated by a comma:"
      ]
    },
    {
      "cell_type": "code",
      "metadata": {
        "id": "7Js5Gh536ORd",
        "colab": {
          "base_uri": "https://localhost:8080/",
          "height": 35
        },
        "outputId": "69698eae-17b2-48aa-9753-690100811c4a"
      },
      "source": [
        "from re import split\n",
        "# Split the string by comma\n",
        "\n",
        "Split_string_comma='A,B,C,D'.split(',')\n",
        "Split_string_comma\n",
        "type(Split_string_comma)\n",
        "Split_string_comma[0]"
      ],
      "execution_count": 13,
      "outputs": [
        {
          "output_type": "execute_result",
          "data": {
            "text/plain": [
              "'A'"
            ],
            "application/vnd.google.colaboratory.intrinsic+json": {
              "type": "string"
            }
          },
          "metadata": {},
          "execution_count": 13
        }
      ]
    },
    {
      "cell_type": "markdown",
      "metadata": {
        "id": "JdvgJ8oN6ORf"
      },
      "source": [
        "<h3 id=\"co\">Copy and Clone List</h3>"
      ]
    },
    {
      "cell_type": "markdown",
      "metadata": {
        "id": "GJQECNRh6ORg"
      },
      "source": [
        "When we set one variable <b>B</b> equal to <b>A</b>; both <b>A</b> and <b>B</b> are referencing the same list in memory:"
      ]
    },
    {
      "cell_type": "code",
      "metadata": {
        "id": "VCgv7Joh6ORg",
        "colab": {
          "base_uri": "https://localhost:8080/"
        },
        "outputId": "482d9782-9cd0-45e5-f058-1aa93a9c4f33"
      },
      "source": [
        "# Copy (copy by reference) the list A\n",
        "\n",
        "A = [\"hard rock\", 10, 1.2]\n",
        "B = A # B = A (같은 곳을 가리킨다 not equal to 같은 값을 두개 따로 가지는 것은 아니다) -->B에게 알려준다.. 너는 인제 A에서 찾아야 해...B = A (assign)\n",
        "\n",
        "\n",
        "A[0] = \"R&B\"\n",
        "\n",
        "print('A:', A) #R&B, 10, 1.2\n",
        "print('B:', B) #'hard rock, 10, 1.2"
      ],
      "execution_count": 14,
      "outputs": [
        {
          "output_type": "stream",
          "name": "stdout",
          "text": [
            "A: ['R&B', 10, 1.2]\n",
            "B: ['R&B', 10, 1.2]\n"
          ]
        }
      ]
    },
    {
      "cell_type": "markdown",
      "metadata": {
        "id": "Z5xEvdHr6ORi"
      },
      "source": [
        "<img src=\"https://s3-api.us-geo.objectstorage.softlayer.net/cf-courses-data/CognitiveClass/PY0101EN/Chapter%202/Images/ListsRef.png\" width=\"1000\" align=\"center\">"
      ]
    },
    {
      "cell_type": "markdown",
      "metadata": {
        "id": "l5-vaSC_6ORj"
      },
      "source": [
        "Initially, the value of the first element in <b>B</b> is set as hard rock. If we change the first element in <b>A</b> to <b>banana</b>, we get an unexpected side effect.  As <b>A</b> and <b>B</b> are referencing the same list, if we change list <b>A</b>, then list <b>B</b> also changes. If we check the first element of <b>B</b> we get banana instead of hard rock:"
      ]
    },
    {
      "cell_type": "code",
      "metadata": {
        "id": "POD6aVNX6ORj",
        "colab": {
          "base_uri": "https://localhost:8080/"
        },
        "outputId": "d9c4042c-aa8e-4903-e941-697586dc781c"
      },
      "source": [
        "# Examine the copy by reference\n",
        "\n",
        "print('B[0]:', B[0])\n",
        "A[0] = \"banana\"\n",
        "print('B[0]:', B[0])"
      ],
      "execution_count": 15,
      "outputs": [
        {
          "output_type": "stream",
          "name": "stdout",
          "text": [
            "B[0]: R&B\n",
            "B[0]: banana\n"
          ]
        }
      ]
    },
    {
      "cell_type": "markdown",
      "metadata": {
        "id": "BCwkxT1g6ORn"
      },
      "source": [
        "You can clone list  **A** by using  the following syntax:"
      ]
    },
    {
      "cell_type": "code",
      "metadata": {
        "id": "m4hCDL5N6ORn",
        "colab": {
          "base_uri": "https://localhost:8080/"
        },
        "outputId": "012ad122-c246-4e91-a636-8a6c9a2effcf"
      },
      "source": [
        "# Clone (clone by value) the list A\n",
        "A = [\"hard rock\", 10, 1.2]\n",
        "B = A[:] #A[:]\n",
        "print(A)\n",
        "print(B)\n",
        "A[0] ='R&B'\n",
        "print(A)\n",
        "print(B)\n",
        "#A[0] = \"Banana\"\n",
        "#print(B)\n",
        "#print(A)"
      ],
      "execution_count": 16,
      "outputs": [
        {
          "output_type": "stream",
          "name": "stdout",
          "text": [
            "['hard rock', 10, 1.2]\n",
            "['hard rock', 10, 1.2]\n",
            "['R&B', 10, 1.2]\n",
            "['hard rock', 10, 1.2]\n"
          ]
        }
      ]
    },
    {
      "cell_type": "markdown",
      "metadata": {
        "id": "eDA7-iT56ORp"
      },
      "source": [
        " Variable **B** references a new copy or clone of the original list; this is demonstrated in the following figure:"
      ]
    },
    {
      "cell_type": "markdown",
      "metadata": {
        "id": "469mxbeY6ORp"
      },
      "source": [
        "<img src=\"https://s3-api.us-geo.objectstorage.softlayer.net/cf-courses-data/CognitiveClass/PY0101EN/Chapter%202/Images/ListsVal.gif\" width=\"1000\" />"
      ]
    },
    {
      "cell_type": "markdown",
      "metadata": {
        "id": "uLa0yHwr6ORu"
      },
      "source": [
        "<h2 id=\"quiz\">Quiz on List</h2>"
      ]
    },
    {
      "cell_type": "markdown",
      "metadata": {
        "id": "e4L88mTA6ORv"
      },
      "source": [
        "Create a list <code>a_list</code>, with the following elements <code>1</code>, <code>hello</code>, <code>[1,2,3]</code> and <code>True</code>."
      ]
    },
    {
      "cell_type": "code",
      "metadata": {
        "id": "HAN8rxnH6ORv"
      },
      "source": [
        "# Write your code below and press Shift+Enter to execute"
      ],
      "execution_count": null,
      "outputs": []
    },
    {
      "cell_type": "markdown",
      "metadata": {
        "id": "BBMxKPPd6ORx"
      },
      "source": [
        "Double-click <b>here</b> for the solution.\n",
        "\n",
        "<!-- Your answer is below:\n",
        "a_list = [1, 'hello', [1, 2, 3] , True]\n",
        "a_list\n",
        "-->"
      ]
    },
    {
      "cell_type": "code",
      "source": [
        "a_list = [1, 'hello', [1, 2, 3] , True]\n",
        "a_list"
      ],
      "metadata": {
        "colab": {
          "base_uri": "https://localhost:8080/"
        },
        "id": "iykJKHCq27E8",
        "outputId": "b3844c59-64f2-40c3-e3ca-f8e279a0231c"
      },
      "execution_count": 17,
      "outputs": [
        {
          "output_type": "execute_result",
          "data": {
            "text/plain": [
              "[1, 'hello', [1, 2, 3], True]"
            ]
          },
          "metadata": {},
          "execution_count": 17
        }
      ]
    },
    {
      "cell_type": "markdown",
      "metadata": {
        "id": "N-2_BadY6ORx"
      },
      "source": [
        "Find the value stored at index 1 of <code>a_list</code>."
      ]
    },
    {
      "cell_type": "code",
      "metadata": {
        "id": "tI_r_x-i6ORy"
      },
      "source": [
        "# Write your code below and press Shift+Enter to execute"
      ],
      "execution_count": null,
      "outputs": []
    },
    {
      "cell_type": "markdown",
      "metadata": {
        "id": "05HLZKB06OR0"
      },
      "source": [
        "Double-click <b>here</b> for the solution.\n",
        "\n",
        "<!-- Your answer is below:\n",
        "a_list[1]\n",
        "-->"
      ]
    },
    {
      "cell_type": "code",
      "source": [
        "a_list[1]"
      ],
      "metadata": {
        "colab": {
          "base_uri": "https://localhost:8080/",
          "height": 35
        },
        "id": "xQBjwOrD29v0",
        "outputId": "3197d2ba-6fb9-4167-acdd-c671278f1eec"
      },
      "execution_count": 18,
      "outputs": [
        {
          "output_type": "execute_result",
          "data": {
            "text/plain": [
              "'hello'"
            ],
            "application/vnd.google.colaboratory.intrinsic+json": {
              "type": "string"
            }
          },
          "metadata": {},
          "execution_count": 18
        }
      ]
    },
    {
      "cell_type": "markdown",
      "metadata": {
        "id": "vQ5NA_5S6OR1"
      },
      "source": [
        "Retrieve the elements stored at index 1, 2 and 3 of <code>a_list</code>."
      ]
    },
    {
      "cell_type": "code",
      "metadata": {
        "id": "ebEasRQV6OR1"
      },
      "source": [
        "# Write your code below and press Shift+Enter to execute"
      ],
      "execution_count": null,
      "outputs": []
    },
    {
      "cell_type": "markdown",
      "metadata": {
        "id": "w-xOUL0p6OR3"
      },
      "source": [
        "Double-click <b>here</b> for the solution.\n",
        "\n",
        "<!-- Your answer is below:\n",
        "a_list[1:4]\n",
        "-->"
      ]
    },
    {
      "cell_type": "code",
      "source": [
        "a_list[1:4]"
      ],
      "metadata": {
        "colab": {
          "base_uri": "https://localhost:8080/"
        },
        "id": "fxfQ1Kk53EGF",
        "outputId": "7f47953e-d223-4dea-d4d4-fa1a1f86704e"
      },
      "execution_count": 19,
      "outputs": [
        {
          "output_type": "execute_result",
          "data": {
            "text/plain": [
              "['hello', [1, 2, 3], True]"
            ]
          },
          "metadata": {},
          "execution_count": 19
        }
      ]
    },
    {
      "cell_type": "markdown",
      "metadata": {
        "id": "njpuGgCg6OR4"
      },
      "source": [
        "Concatenate the following lists <code>A = [1, 'a']</code> and <code>B = [2, 1, 'd']</code>:"
      ]
    },
    {
      "cell_type": "code",
      "metadata": {
        "id": "zCcOoqos6OR4"
      },
      "source": [
        "# Write your code below and press Shift+Enter to execute"
      ],
      "execution_count": null,
      "outputs": []
    },
    {
      "cell_type": "markdown",
      "metadata": {
        "id": "wr57v8g_6OR7"
      },
      "source": [
        "Double-click <b>here</b> for the solution.\n",
        "\n",
        "<!-- Your answer is below:\n",
        "A = [1, 'a']\n",
        "B = [2, 1, 'd']\n",
        "A + B\n",
        "-->"
      ]
    },
    {
      "cell_type": "code",
      "source": [
        "A = [1, 'a']\n",
        "B = [2, 1, 'd']\n",
        "A + B"
      ],
      "metadata": {
        "colab": {
          "base_uri": "https://localhost:8080/"
        },
        "id": "dwl81EAW3GdZ",
        "outputId": "8b21bda3-de18-46aa-a211-889d31df88ac"
      },
      "execution_count": 20,
      "outputs": [
        {
          "output_type": "execute_result",
          "data": {
            "text/plain": [
              "[1, 'a', 2, 1, 'd']"
            ]
          },
          "metadata": {},
          "execution_count": 20
        }
      ]
    },
    {
      "cell_type": "markdown",
      "metadata": {
        "id": "Q-aahkq86OR7"
      },
      "source": [
        "<hr>\n",
        "<h2>The last exercise!</h2>\n",
        "<p>Congratulations, you have completed your first lesson and hands-on lab in Python. However, there is one more thing you need to do. The Data Science community encourages sharing work. The best way to share and showcase your work is to share it on GitHub. By sharing your notebook on GitHub you are not only building your reputation with fellow data scientists, but you can also show it off when applying for a job. Even though this was your first piece of work, it is never too early to start building good habits. Please submit all your exercises to Github & let the traces in our LMS, so for me to access your work.\n",
        "<hr>"
      ]
    },
    {
      "cell_type": "markdown",
      "metadata": {
        "id": "SKMWv3W16OR9"
      },
      "source": [
        "<hr>"
      ]
    },
    {
      "cell_type": "markdown",
      "metadata": {
        "id": "2hsh8gk26OR9"
      },
      "source": [
        "<p>Copyright &copy; 2023 RYU HOKYOUNG based on 2018 IBM Developer Skills Network. This notebook and its source code are released under the terms of the <a href=\"https://cognitiveclass.ai/mit-license/\">MIT License</a>.</p>"
      ]
    }
  ]
}