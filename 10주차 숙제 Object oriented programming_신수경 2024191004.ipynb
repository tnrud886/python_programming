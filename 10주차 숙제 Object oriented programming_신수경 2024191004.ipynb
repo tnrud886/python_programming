{
 "cells": [
  {
   "cell_type": "markdown",
   "id": "30b82a6d-857a-4e1f-9fd6-01c99d611dca",
   "metadata": {},
   "source": [
    "# Object oriented programming"
   ]
  },
  {
   "cell_type": "markdown",
   "id": "427d5eb5-dba4-439b-8b68-f2869f467bd5",
   "metadata": {},
   "source": [
    "24학번 석사과정 신수경 (2024191004)"
   ]
  },
  {
   "cell_type": "code",
   "execution_count": 6,
   "id": "606c75aa-e20d-48d5-920a-5d01f4f27424",
   "metadata": {},
   "outputs": [
    {
     "name": "stdout",
     "output_type": "stream",
     "text": [
      "3\n"
     ]
    }
   ],
   "source": [
    "result = 0\n",
    "def adder(num):\n",
    "    global result\n",
    "    result += num\n",
    "    return result\n",
    "\n",
    "print(adder(3))"
   ]
  },
  {
   "cell_type": "code",
   "execution_count": 8,
   "id": "b0045d17-697a-4431-ba32-0cb5a3863ff3",
   "metadata": {},
   "outputs": [
    {
     "name": "stdout",
     "output_type": "stream",
     "text": [
      "7\n"
     ]
    }
   ],
   "source": [
    "print(adder(4))"
   ]
  },
  {
   "cell_type": "code",
   "execution_count": 10,
   "id": "71f183fd-d185-455e-8c58-57d698701e95",
   "metadata": {},
   "outputs": [
    {
     "name": "stdout",
     "output_type": "stream",
     "text": [
      "12\n"
     ]
    }
   ],
   "source": [
    "print(adder(5))"
   ]
  },
  {
   "cell_type": "code",
   "execution_count": 12,
   "id": "308aff7b-7d8b-4ef9-a816-df7d6bf5d252",
   "metadata": {},
   "outputs": [
    {
     "name": "stdout",
     "output_type": "stream",
     "text": [
      "3\n",
      "7\n",
      "3\n",
      "10\n"
     ]
    }
   ],
   "source": [
    "result1 = 0\n",
    "result2 = 0\n",
    "\n",
    "def adder1(num):\n",
    "    global result1\n",
    "    result1 += num\n",
    "    return result1\n",
    "\n",
    "def adder2(num):\n",
    "    global result2\n",
    "    result2 += num\n",
    "    return result2\n",
    "\n",
    "print(adder1(3))\n",
    "print(adder1(4))\n",
    "print(adder2(3))\n",
    "print(adder2(7))"
   ]
  },
  {
   "cell_type": "code",
   "execution_count": 14,
   "id": "17748bbe-ddb5-45bc-9694-009531bfa30f",
   "metadata": {},
   "outputs": [
    {
     "name": "stdout",
     "output_type": "stream",
     "text": [
      "3\n",
      "7\n",
      "3\n",
      "10\n"
     ]
    }
   ],
   "source": [
    "class Calculator:\n",
    "    def __init__(self):\n",
    "        self.result = 0\n",
    "        \n",
    "    def adder(self, num):\n",
    "        self.result += num\n",
    "        return self.result\n",
    "    \n",
    "cal1 = Calculator()\n",
    "cal2 = Calculator()\n",
    "\n",
    "print(cal1.adder(3))\n",
    "print(cal1.adder(4))\n",
    "print(cal2.adder(3))\n",
    "print(cal2.adder(7))"
   ]
  },
  {
   "cell_type": "code",
   "execution_count": 39,
   "id": "ece53101-ff29-437a-901f-ab4cafdb7152",
   "metadata": {},
   "outputs": [
    {
     "data": {
      "text/plain": [
       "'지구는 4006년에 멸망한다.'"
      ]
     },
     "execution_count": 39,
     "metadata": {},
     "output_type": "execute_result"
    }
   ],
   "source": [
    "class Service:\n",
    "    secret = \"지구는 4006년에 멸망한다.\" # 변수\n",
    "    \n",
    "    def setname(self, name):\n",
    "        self.name = name\n",
    "    \n",
    "    def sum(self, a, b):\n",
    "        result = a+b\n",
    "        print(\"%s님, %s + %s = %s이다.\" % (self.name, a, b, result))\n",
    "\n",
    "    \n",
    "an = Service()\n",
    "\n",
    "an.secret"
   ]
  },
  {
   "cell_type": "code",
   "execution_count": 43,
   "id": "6502c654-29be-4f63-9ac4-dce708497c32",
   "metadata": {},
   "outputs": [
    {
     "name": "stdout",
     "output_type": "stream",
     "text": [
      "지구가 4006년에 멸망한다는 사실은 뻥이다.\n"
     ]
    }
   ],
   "source": [
    "Service.secret\n",
    "\n",
    "Service.secret = \"지구가 4006년에 멸망한다는 사실은 뻥이다.\"\n",
    "\n",
    "print(an.secret)"
   ]
  },
  {
   "cell_type": "code",
   "execution_count": 49,
   "id": "eed2a49c-e3f8-4b75-acc6-29aa1ae2bf48",
   "metadata": {},
   "outputs": [
    {
     "ename": "AttributeError",
     "evalue": "'Service' object has no attribute 'name'",
     "output_type": "error",
     "traceback": [
      "\u001b[1;31m---------------------------------------------------------------------------\u001b[0m",
      "\u001b[1;31mAttributeError\u001b[0m                            Traceback (most recent call last)",
      "Cell \u001b[1;32mIn[49], line 3\u001b[0m\n\u001b[0;32m      1\u001b[0m an \u001b[38;5;241m=\u001b[39m Service()\n\u001b[1;32m----> 3\u001b[0m an\u001b[38;5;241m.\u001b[39msum(\u001b[38;5;241m1\u001b[39m, \u001b[38;5;241m1\u001b[39m)\n",
      "Cell \u001b[1;32mIn[39], line 6\u001b[0m, in \u001b[0;36mService.sum\u001b[1;34m(self, a, b)\u001b[0m\n\u001b[0;32m      4\u001b[0m \u001b[38;5;28;01mdef\u001b[39;00m \u001b[38;5;21msum\u001b[39m(\u001b[38;5;28mself\u001b[39m, a, b):\n\u001b[0;32m      5\u001b[0m     result \u001b[38;5;241m=\u001b[39m a\u001b[38;5;241m+\u001b[39mb\n\u001b[1;32m----> 6\u001b[0m     \u001b[38;5;28mprint\u001b[39m(\u001b[38;5;124m\"\u001b[39m\u001b[38;5;132;01m%s\u001b[39;00m\u001b[38;5;124m님, \u001b[39m\u001b[38;5;132;01m%s\u001b[39;00m\u001b[38;5;124m + \u001b[39m\u001b[38;5;132;01m%s\u001b[39;00m\u001b[38;5;124m = \u001b[39m\u001b[38;5;132;01m%s\u001b[39;00m\u001b[38;5;124m이다.\u001b[39m\u001b[38;5;124m\"\u001b[39m \u001b[38;5;241m%\u001b[39m (\u001b[38;5;28mself\u001b[39m\u001b[38;5;241m.\u001b[39mname, a, b, result))\n",
      "\u001b[1;31mAttributeError\u001b[0m: 'Service' object has no attribute 'name'"
     ]
    }
   ],
   "source": [
    "an = Service()\n",
    "\n",
    "an.sum(1, 1)"
   ]
  },
  {
   "cell_type": "code",
   "execution_count": 36,
   "id": "01943153-15d2-44d6-9038-6724a66a2995",
   "metadata": {},
   "outputs": [
    {
     "name": "stdout",
     "output_type": "stream",
     "text": [
      "박달도사님, 1 + 1 = 2이다.\n"
     ]
    }
   ],
   "source": [
    "an = Service()\n",
    "an.setname(\"박달도사\")\n",
    "an.sum(1, 1)"
   ]
  },
  {
   "cell_type": "code",
   "execution_count": 38,
   "id": "da5d93ec-48b7-4031-9797-e350062fc864",
   "metadata": {},
   "outputs": [
    {
     "name": "stdout",
     "output_type": "stream",
     "text": [
      "김정보\n",
      "박융합\n",
      "지구는 4006년에 멸망한다.\n",
      "비밀은 없다.\n"
     ]
    },
    {
     "data": {
      "text/plain": [
       "'지구는 4006년에 멸망한다.'"
      ]
     },
     "execution_count": 38,
     "metadata": {},
     "output_type": "execute_result"
    }
   ],
   "source": [
    "kim = Service()\n",
    "park = Service()\n",
    "\n",
    "kim.setname(\"김정보\")\n",
    "park.setname(\"박융합\")\n",
    "\n",
    "print(kim.name)\n",
    "print(park.name)\n",
    "\n",
    "kim.secret = \"비밀은 없다.\"\n",
    "print(park.secret)\n",
    "\n",
    "print(kim.secret)\n",
    "\n",
    "Service.secret"
   ]
  },
  {
   "cell_type": "code",
   "execution_count": 42,
   "id": "7d570fc7-e59c-48c0-8183-e7c5d04f4852",
   "metadata": {},
   "outputs": [
    {
     "ename": "AttributeError",
     "evalue": "'Service' object has no attribute 'name'",
     "output_type": "error",
     "traceback": [
      "\u001b[1;31m---------------------------------------------------------------------------\u001b[0m",
      "\u001b[1;31mAttributeError\u001b[0m                            Traceback (most recent call last)",
      "Cell \u001b[1;32mIn[42], line 2\u001b[0m\n\u001b[0;32m      1\u001b[0m lee \u001b[38;5;241m=\u001b[39m Service()\n\u001b[1;32m----> 2\u001b[0m lee\u001b[38;5;241m.\u001b[39msum(\u001b[38;5;241m1\u001b[39m, \u001b[38;5;241m1\u001b[39m)\n",
      "Cell \u001b[1;32mIn[32], line 6\u001b[0m, in \u001b[0;36mService.sum\u001b[1;34m(self, a, b)\u001b[0m\n\u001b[0;32m      4\u001b[0m \u001b[38;5;28;01mdef\u001b[39;00m \u001b[38;5;21msum\u001b[39m(\u001b[38;5;28mself\u001b[39m, a, b):\n\u001b[0;32m      5\u001b[0m     result \u001b[38;5;241m=\u001b[39m a\u001b[38;5;241m+\u001b[39mb\n\u001b[1;32m----> 6\u001b[0m     \u001b[38;5;28mprint\u001b[39m(\u001b[38;5;124m\"\u001b[39m\u001b[38;5;132;01m%s\u001b[39;00m\u001b[38;5;124m님, \u001b[39m\u001b[38;5;132;01m%s\u001b[39;00m\u001b[38;5;124m + \u001b[39m\u001b[38;5;132;01m%s\u001b[39;00m\u001b[38;5;124m = \u001b[39m\u001b[38;5;132;01m%s\u001b[39;00m\u001b[38;5;124m이다.\u001b[39m\u001b[38;5;124m\"\u001b[39m \u001b[38;5;241m%\u001b[39m (\u001b[38;5;28mself\u001b[39m\u001b[38;5;241m.\u001b[39mname, a, b, result))\n",
      "\u001b[1;31mAttributeError\u001b[0m: 'Service' object has no attribute 'name'"
     ]
    }
   ],
   "source": [
    "lee = Service()\n",
    "lee.sum(1, 1)"
   ]
  },
  {
   "cell_type": "code",
   "execution_count": 44,
   "id": "f9f3a3ea-6cb4-4f76-b232-aa1c82a88fce",
   "metadata": {},
   "outputs": [
    {
     "name": "stdout",
     "output_type": "stream",
     "text": [
      "박달도사님, 1 + 1 = 2입니다.\n"
     ]
    }
   ],
   "source": [
    "class Service:\n",
    "    secret = \"지구는 4006년에 멸망한다.\"\n",
    "    def __init__(self, name):\n",
    "        self.name = name\n",
    "        \n",
    "    def sum(self, a, b):\n",
    "        result = a + b\n",
    "        print(\"%s님, %s + %s = %s입니다.\" % (self.name,a, b, result))\n",
    "\n",
    "\n",
    "an = Service(\"박달도사\")\n",
    "an.sum(1, 1)"
   ]
  },
  {
   "cell_type": "code",
   "execution_count": 46,
   "id": "dea20673-20c2-412f-a81a-abeae7f6d6cc",
   "metadata": {},
   "outputs": [
    {
     "data": {
      "text/plain": [
       "__main__.FourCal"
      ]
     },
     "execution_count": 46,
     "metadata": {},
     "output_type": "execute_result"
    }
   ],
   "source": [
    "class FourCal:\n",
    "    pass\n",
    "\n",
    "a= FourCal()\n",
    "type(a)"
   ]
  },
  {
   "cell_type": "code",
   "execution_count": 48,
   "id": "1eb53c2b-d124-4567-9587-788e7ae73df7",
   "metadata": {},
   "outputs": [
    {
     "name": "stdout",
     "output_type": "stream",
     "text": [
      "4\n",
      "2\n"
     ]
    }
   ],
   "source": [
    "class FourCal:\n",
    "    def setdata(self, first, second):\n",
    "        self.first = first\n",
    "        self.second = second\n",
    "    def sum(self):\n",
    "        result = self.first + self.second\n",
    "        return result\n",
    "\n",
    "a= FourCal()\n",
    "a.setdata(4, 2)\n",
    "\n",
    "print(a.first)\n",
    "print(a.second)"
   ]
  },
  {
   "cell_type": "code",
   "execution_count": 50,
   "id": "013a0343-7ff3-45db-aea5-13d33b64bb2f",
   "metadata": {},
   "outputs": [
    {
     "name": "stdout",
     "output_type": "stream",
     "text": [
      "6\n"
     ]
    }
   ],
   "source": [
    "a = FourCal()\n",
    "a.setdata(4, 2)\n",
    "print(a.sum())"
   ]
  },
  {
   "cell_type": "code",
   "execution_count": 52,
   "id": "f8120f28-bf65-4cc2-972f-4d9dd10cff0f",
   "metadata": {},
   "outputs": [],
   "source": [
    "#사칙연산 클래스 만들기\n",
    "class FourCal:\n",
    "    def setdata(self, first, second):\n",
    "        self.first = first\n",
    "        self.second = second\n",
    "    def sum(self):\n",
    "        result = self.first + self.second\n",
    "        return result\n",
    "    def sub(self):\n",
    "        result = self.first - self.second\n",
    "        return result\n",
    "    def mul(self):\n",
    "        result = self.first * self.second\n",
    "        return result\n",
    "    def div(self):\n",
    "        result = self.first / self.second\n",
    "        return result"
   ]
  },
  {
   "cell_type": "code",
   "execution_count": 54,
   "id": "1d9e701e-7c54-45e9-bd17-ec3183cf0cbf",
   "metadata": {},
   "outputs": [
    {
     "name": "stdout",
     "output_type": "stream",
     "text": [
      "6\n",
      "8\n",
      "2\n",
      "2.0\n",
      "-4\n"
     ]
    }
   ],
   "source": [
    "a = FourCal()\n",
    "b = FourCal()\n",
    "\n",
    "a.setdata(4, 2)\n",
    "b.setdata(3, 7)\n",
    "\n",
    "print(a.sum())\n",
    "print(a.mul())\n",
    "print(a.sub())\n",
    "print(a.div())\n",
    "print(b.sub())"
   ]
  },
  {
   "cell_type": "code",
   "execution_count": 56,
   "id": "65b333fa-95f8-44e4-a17e-56d8106dc154",
   "metadata": {},
   "outputs": [
    {
     "name": "stdout",
     "output_type": "stream",
     "text": [
      "Player1: [5, 2, 6]\n",
      "Player2: [5, 5, 5]\n",
      "Player2 Win!\n"
     ]
    }
   ],
   "source": [
    "import random\n",
    "\n",
    "player1_dice = []\n",
    "player2_dice = []\n",
    "\n",
    "for i in range(3):\n",
    "    player1_dice.append(random.randint(1, 6))\n",
    "    player2_dice.append(random.randint(1, 6))\n",
    "\n",
    "print(\"Player1:\", str(player1_dice))\n",
    "print(\"Player2:\", str(player2_dice))\n",
    "\n",
    "if sum(player1_dice) == sum(player2_dice):\n",
    "    print(\"Draw\")\n",
    "elif sum(player1_dice) > sum(player2_dice):\n",
    "    print(\"Player1 Win!\")\n",
    "else:\n",
    "    print(\"Player2 Win!\")"
   ]
  },
  {
   "cell_type": "code",
   "execution_count": 58,
   "id": "c1de0342-4266-4614-a4be-1c3c3464c239",
   "metadata": {},
   "outputs": [],
   "source": [
    "from random import randint\n",
    "\n",
    "class Player:\n",
    "    def __init__(self):\n",
    "        self.dice = []\n",
    "        \n",
    "    def roll(self):\n",
    "        self.dice = [] # clears current dice\n",
    "        for i in range(3):\n",
    "            self.dice.append(randint(1, 6))\n",
    "    \n",
    "    def get_dice(self):\n",
    "        return self.dice  "
   ]
  },
  {
   "cell_type": "code",
   "execution_count": 60,
   "id": "245bf2b8-110d-4f4e-86d9-69365cfd2bbb",
   "metadata": {},
   "outputs": [
    {
     "name": "stdout",
     "output_type": "stream",
     "text": [
      "Player 1 rolled [5, 5, 5]\n",
      "Player 2 rolled [1, 2, 6]\n"
     ]
    }
   ],
   "source": [
    "player1 = Player()\n",
    "player2 = Player()\n",
    "\n",
    "player1.roll()\n",
    "player2.roll()\n",
    "\n",
    "print(\"Player 1 rolled \" + str(player1.get_dice()))\n",
    "print(\"Player 2 rolled \" + str(player2.get_dice()))"
   ]
  },
  {
   "cell_type": "code",
   "execution_count": 62,
   "id": "9a3203c6-8d11-48a0-8f86-f1c9014b8ec9",
   "metadata": {},
   "outputs": [
    {
     "name": "stdout",
     "output_type": "stream",
     "text": [
      "Player1 Win!\n"
     ]
    }
   ],
   "source": [
    "if sum(player1.get_dice()) == sum(player2.get_dice()):\n",
    "    print(\"Draw\")\n",
    "elif sum(player1.get_dice()) > sum(player2.get_dice()):\n",
    "    print(\"Player1 Win!\")\n",
    "else:\n",
    "    print(\"Player2 Win!\")"
   ]
  },
  {
   "cell_type": "code",
   "execution_count": 51,
   "id": "f7fde66b-9801-4081-89fc-e33e53fa6cad",
   "metadata": {},
   "outputs": [],
   "source": [
    "class Customer(object):\n",
    "    \"\"\" A customer of ABC Bank with a checking account. Customers have the following properties:\n",
    "\n",
    "    Attributes:\n",
    "        name: A string representing the customer's name.\n",
    "        balance: A float tracking the current balance of the customer's account.\n",
    "    \"\"\"\n",
    "\n",
    "    def __init__(self, name):\n",
    "        \"\"\"Return a Customer object whose name is *name*.\"\"\"\n",
    "        self.name = name\n",
    "\n",
    "    def set_balance(self, balance=0.0):\n",
    "        \"\"\"Set the customer's starting balance.\"\"\"\n",
    "        self.balance = balance\n",
    "\n",
    "    def withdraw(self, amount):\n",
    "        \"\"\"Return the balance remaining after withdrawing *amount* dollars.\"\"\"\n",
    "        if amount > self.balance:\n",
    "            raise RuntimeError('Amount greater than available balance.')\n",
    "        self.balance -= amount\n",
    "        return self.balance\n",
    "\n",
    "    def deposit(self, amount):\n",
    "        \"\"\"Return the balance remaining after depositing *amount* dollars.\"\"\"\n",
    "        self.balance += amount\n",
    "        return self.balance\n"
   ]
  },
  {
   "cell_type": "code",
   "execution_count": null,
   "id": "70604aae-b3e3-45c8-a136-e96e4284ed06",
   "metadata": {},
   "outputs": [],
   "source": []
  }
 ],
 "metadata": {
  "kernelspec": {
   "display_name": "Python [conda env:base] *",
   "language": "python",
   "name": "conda-base-py"
  },
  "language_info": {
   "codemirror_mode": {
    "name": "ipython",
    "version": 3
   },
   "file_extension": ".py",
   "mimetype": "text/x-python",
   "name": "python",
   "nbconvert_exporter": "python",
   "pygments_lexer": "ipython3",
   "version": "3.12.7"
  }
 },
 "nbformat": 4,
 "nbformat_minor": 5
}
